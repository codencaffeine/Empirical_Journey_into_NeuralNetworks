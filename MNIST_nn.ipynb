{
  "nbformat": 4,
  "nbformat_minor": 0,
  "metadata": {
    "colab": {
      "provenance": []
    },
    "kernelspec": {
      "name": "python3",
      "display_name": "Python 3"
    },
    "language_info": {
      "name": "python"
    }
  },
  "cells": [
    {
      "cell_type": "markdown",
      "source": [
        "# `The humble MNIST classification problem!`\n",
        "### This hopefully will be a simple way to illustrate how a neural network works. There will be a few assumptions made before we dive into the explanations (for example, familiarity with how an image is represented as a numpy array, etc). The key is to not give up!\n",
        "\n",
        "### The MNIST is a dataset of 60,000 28x28 grayscale images of the 10 digits, along with a test set of 10,000 images and our job is to make our model (Neural network) to correctly identity which category each image from the dataset belongs to.\n",
        "\n",
        "\n",
        "## `The following are the steps involved in solving simple problems using Neural networks:`\n",
        "1. Download/Import DataSet \n",
        "2. Split/Load data into `TrainSet` and `TestSet`\n",
        "3. Prepare the data in such a way that its compatible to be fed to our Neural Network (NN)\n",
        "4. Contrusct/Architect a NN\n",
        "5. Compile the NN by using 3 things: `Optimizer` | `Loss` | `Metrics of evaluation`\n",
        "6. Train/Fit the NN to our DataSet\n",
        "\n",
        "\n",
        "\n"
      ],
      "metadata": {
        "id": "nfziYYSAP9mV"
      }
    },
    {
      "cell_type": "code",
      "execution_count": 1,
      "metadata": {
        "colab": {
          "base_uri": "https://localhost:8080/"
        },
        "id": "fz_dUuVHP8j5",
        "outputId": "34ea3894-b894-4884-df7d-c4e6d5536fdd"
      },
      "outputs": [
        {
          "output_type": "stream",
          "name": "stdout",
          "text": [
            "Downloading data from https://storage.googleapis.com/tensorflow/tf-keras-datasets/mnist.npz\n",
            "11490434/11490434 [==============================] - 0s 0us/step\n",
            "The shape of Train Images is: (60000, 28, 28)\n"
          ]
        }
      ],
      "source": [
        "from keras import utils\n",
        "utils.set_random_seed(15)\n",
        "\n",
        "\n",
        "from keras.datasets import mnist                              # Importing the dataset of MNIST from keras\n",
        "(train_images, train_labels), (test_images, test_labels) = mnist.load_data()\n",
        "                                                              # Here, we use the load_data() function to give us 4 sets of data\n",
        "                                                              # Train images, Train labels are the first 2 sets that are grouped together into a tuple\n",
        "                                                              # Test images and Test labels are the 2 other categories that the load.data() returns\n",
        "                                                              # The shape of the Train images and Test images will be (60000,28,28)\n",
        "                                                              # The shape of the Train and Test labels will be (60000,) since its a scalar\n",
        "\n",
        "# Uncomment the following code to view the shape of each of the sets we discussed above.\n",
        "\n",
        "print(f\"The shape of Train Images is: {train_images.shape}\")\n",
        "# print(f\"The shape of Train Labels is: {train_labels.shape}\")\n",
        "# print(f\"The shape of Test Images is: {test_images.shape}\")\n",
        "# print(f\"The shape of Test Labels is: {test_labels.shape}\")\n"
      ]
    },
    {
      "cell_type": "markdown",
      "source": [
        "Lets Visualise how the images in this DataSet look!\n",
        "For visualization and plotting, we will use the matplotlib library."
      ],
      "metadata": {
        "id": "tb4lMzKXy4TY"
      }
    },
    {
      "cell_type": "code",
      "source": [
        "import matplotlib.pyplot as plt                               # Importing the matplotlib library for visualization\n",
        "\n",
        "digit_image = train_images[15]                                # Choosing the 15th image from our train DataSet to visualize\n",
        "\n",
        "plt.imshow(digit_image, cmap = \"binary\")                      # imshow() method creates a figure of our image using matplotlib, \n",
        "                                                              # and binary is to show in black and white\n",
        "plt.show()                                                    # plt.show() displays the created image."
      ],
      "metadata": {
        "colab": {
          "base_uri": "https://localhost:8080/",
          "height": 430
        },
        "id": "2KtSHDCbzEjx",
        "outputId": "bad76e7d-965f-43bf-84d3-9f037c767249"
      },
      "execution_count": 2,
      "outputs": [
        {
          "output_type": "display_data",
          "data": {
            "text/plain": [
              "<Figure size 640x480 with 1 Axes>"
            ],
            "image/png": "[encoded data removed]"
          },
          "metadata": {}
        }
      ]
    },
    {
      "cell_type": "markdown",
      "source": [
        "We are done with the first 2 steps to solve this problem, which are as follows:\n",
        "1. Download/Import DataSet ✔\n",
        "2. Split/Load data into `TrainSet` and `TestSet` ✔\n",
        "\n",
        "Now moving on to the next step\n",
        "\n"
      ],
      "metadata": {
        "id": "btuZc-8DXLiy"
      }
    },
    {
      "cell_type": "markdown",
      "source": [
        "### `Preprocessing the Data!`\n",
        "1. The original shape of the data is (60000, 28, 28), and we change it to (60000, 28*28)\n",
        "2. The original type is uint8, and we change it to float32 for the division part in next step\n",
        "3. We reduce the values of the pixels in the images from the range of (0 to 255) to (0 to 1)"
      ],
      "metadata": {
        "id": "QJCsSGt2gI41"
      }
    },
    {
      "cell_type": "code",
      "source": [
        "train_images = train_images.reshape((60000, 28*28)).astype('float32')\n",
        "                                                              # We change the shape to (60000, 28*28) as expected by our model(NN) and as float32\n",
        "test_images = test_images.reshape((10000, 28*28)).astype('float32')\n",
        "                                                              # We change the shape to (10000, 28*28) as expected by our model(NN) and as float32\n",
        "\n",
        "train_images = train_images/255                               # We reduce the range of pixel values from (0-255) to (0-1)\n",
        "test_images = test_images/255                                 # We reduce the range of pixel values from (0-255) to (0-1)\n",
        "\n",
        "\n",
        "from keras.utils import to_categorical                        # We import the to_categorical that converts integers to binary class matrix.\n",
        "\n",
        "train_labels = to_categorical(train_labels)                   # Converting the integers to a binar class matrix\n",
        "test_labels = to_categorical(test_labels)                     # Converting the integers to a binar class matrix\n"
      ],
      "metadata": {
        "id": "Mg-ft_RUetiI"
      },
      "execution_count": 3,
      "outputs": []
    },
    {
      "cell_type": "code",
      "source": [
        "from keras.layers.serialization import activation\n",
        "from IPython.utils.io import unicode_std_stream\n",
        "from keras import models                                      # Importing models from keras\n",
        "from keras import layers                                      # There are two types of models that keras offers: Sequential API and Functional API\n",
        "                                                              # We will use the sequential one!\n",
        "our_neural_network = models.Sequential(                       # Creating our neural network with a sequential model\n",
        "    [layers.Dense(units= 512, activation= \"relu\", input_shape= (28*28,)),\n",
        "                                                              # Units are the number of neurons in that layer\n",
        "                                                              # activation function is used to induce non-linearity in the network, We use ReLu.\n",
        "                                                              # Input_Shape is the shape of the data we will feed the network and it has to be mentioned.\n",
        "     layers.Dense(units= 256, activation= \"relu\"),\n",
        "     layers.Dense(units= 124, activation= \"relu\"),\n",
        "     layers.Dense(units= 64, activation= \"relu\"),\n",
        "     layers.Dense(units = 10, activation= \"softmax\")          # The last layer will have 10 neurons as we have 10 categories to classify\n",
        "                                                              # The activation function now will be softmax, as it returns the probability of which \n",
        "                                                              # category a particular digit belongs to\n",
        "     \n",
        "    ]\n",
        ")\n",
        "\n",
        "#Now comes the compilation part!\n",
        "\n",
        "our_neural_network.compile(                                   # We use the compile method to configure our model for training\n",
        "    optimizer= \"adam\",                                        # Optimizer is a mechanism by which the model will update itself to become better \n",
        "    loss = \"categorical_crossentropy\",                        # loss is the loss function is the mechanism used to steer the model in the right \n",
        "                                                              # direction to better itself!\n",
        "    metrics= ['accuracy']                                     # A means to judge the performance of the model (example: accuracy)\n",
        ")"
      ],
      "metadata": {
        "id": "kLqRN805RH-h"
      },
      "execution_count": 4,
      "outputs": []
    },
    {
      "cell_type": "markdown",
      "source": [
        "We are done with the first 5 steps to solve this problem, which are as follows:\n",
        "1. Download/Import DataSet ✔\n",
        "2. Split/Load data into `TrainSet` and `TestSet` ✔\n",
        "3. Prepare the data in such a way that its compatible to be fed to our Neural Network (NN) ✔\n",
        "4. Contrusct/Architect a NN ✔\n",
        "5. Compile the NN by using 3 things: `Optimizer` | `Loss` | `Metrics of evaluation` ✔\n",
        "\n",
        "Now its time for us to train/fit our very first neural network! We use the `fit` method to do so."
      ],
      "metadata": {
        "id": "2uttoVfciXNU"
      }
    },
    {
      "cell_type": "code",
      "source": [
        "our_neural_network.fit(train_images, train_labels, batch_size= 82, epochs= 12)\n",
        "                                                              # Now lets train our NN for 10 epochs and see what happens! \n",
        "                                                              # The fit method needs our train images and train labels, epochs needed and batch size!\n"
      ],
      "metadata": {
        "colab": {
          "base_uri": "https://localhost:8080/"
        },
        "id": "4z4DdV2FcYo_",
        "outputId": "6b14777f-7ef2-416f-af43-fbbd66525326"
      },
      "execution_count": 5,
      "outputs": [
        {
          "output_type": "stream",
          "name": "stdout",
          "text": [
            "Epoch 1/12\n",
            "732/732 [==============================] - 9s 9ms/step - loss: 0.2259 - accuracy: 0.9313\n",
            "Epoch 2/12\n",
            "732/732 [==============================] - 6s 8ms/step - loss: 0.0869 - accuracy: 0.9739\n",
            "Epoch 3/12\n",
            "732/732 [==============================] - 7s 9ms/step - loss: 0.0615 - accuracy: 0.9806\n",
            "Epoch 4/12\n",
            "732/732 [==============================] - 8s 11ms/step - loss: 0.0459 - accuracy: 0.9859\n",
            "Epoch 5/12\n",
            "732/732 [==============================] - 8s 11ms/step - loss: 0.0377 - accuracy: 0.9875\n",
            "Epoch 6/12\n",
            "732/732 [==============================] - 6s 8ms/step - loss: 0.0286 - accuracy: 0.9908\n",
            "Epoch 7/12\n",
            "732/732 [==============================] - 6s 9ms/step - loss: 0.0265 - accuracy: 0.9915\n",
            "Epoch 8/12\n",
            "732/732 [==============================] - 6s 8ms/step - loss: 0.0234 - accuracy: 0.9926\n",
            "Epoch 9/12\n",
            "732/732 [==============================] - 7s 10ms/step - loss: 0.0206 - accuracy: 0.9936\n",
            "Epoch 10/12\n",
            "732/732 [==============================] - 6s 8ms/step - loss: 0.0194 - accuracy: 0.9938\n",
            "Epoch 11/12\n",
            "732/732 [==============================] - 7s 9ms/step - loss: 0.0164 - accuracy: 0.9948\n",
            "Epoch 12/12\n",
            "732/732 [==============================] - 6s 8ms/step - loss: 0.0166 - accuracy: 0.9948\n"
          ]
        },
        {
          "output_type": "execute_result",
          "data": {
            "text/plain": [
              "<keras.callbacks.History at 0x7f16fdb4fb80>"
            ]
          },
          "metadata": {},
          "execution_count": 5
        }
      ]
    },
    {
      "cell_type": "markdown",
      "source": [
        "1. Now there was something purposeful in choosing the number of epochs as 12!\n",
        "As you will see, The model achieves an accuracy above 98% in the first few epoch itself(the accuracy will vary with every instance of training, so dont worry if you are getting a different result than mine). After which the accuracy only increases marginally or even fluctuates around a certain percentage. This is an excellent symptom of overfitting! \n",
        "\n",
        "2. `Overfitting`, to put in layman's term, is a condition where your model has learned the representation of your dataset so well, that it does not perform well when it is given any other new data. `It is a condition to be avoided` and there are certain techniques to do so.\n",
        "\n",
        "3. Here, we can use, perhaps the simplest technique when you see overfitting, which is to `simplify your model`, or reduce the complexity of our model. Or, we can `reduce the number of epochs!` \n",
        "\n",
        "4. The neural network that we built maybe has too many layers and is too complex for the humble dataset of MNIST. Try reducing the dense layers in the NN and see what happens. Also, you can try to reduce the number of epochs! I wont explain what method out of these two you must use, rather try it yourself!\n",
        "\n",
        "5. Now we will move on to testing whether our model is any good. This can be done by making the model predict using the **Test DataSet**"
      ],
      "metadata": {
        "id": "SLBEYk4ApdS-"
      }
    },
    {
      "cell_type": "code",
      "source": [
        "test_loss, test_accuracy = our_neural_network.evaluate(test_images, test_labels)\n",
        "                                                                # The evaluate method to check the performance of our model on test/new data\n",
        "                                                                # which returns us 2 values: loss and accuracy!\n",
        "print(f\"The performance of our model on the test data is as follows : \\nTest loss: {test_loss}\\nTest accuracy:{test_accuracy}\")\n",
        "                                                                "
      ],
      "metadata": {
        "colab": {
          "base_uri": "https://localhost:8080/"
        },
        "id": "kZqi06EDjfd6",
        "outputId": "c76bf6e5-060a-4a42-de4b-d5aa6be88e39"
      },
      "execution_count": 8,
      "outputs": [
        {
          "output_type": "stream",
          "name": "stdout",
          "text": [
            "313/313 [==============================] - 1s 2ms/step - loss: 0.0790 - accuracy: 0.9821\n",
            "The performance of our model on the test data is as follows : \n",
            "Test loss: 0.07897141575813293\n",
            "Test accuracy:0.9821000099182129\n"
          ]
        }
      ]
    },
    {
      "cell_type": "markdown",
      "source": [
        "Well, my training accuracy was 99.48% and I got a test accuracy of 98.21%, which isn't too bad, but not great either. So do try the methods to avoid overfitting and see the gap between the training accuracy and the test accuracy diminish!\n",
        "\n",
        "Hope this was a simple tutorial for those who want to directly dive into the empirical journey of NNs and not heavy on theory. \n",
        "\n",
        "***Phir milenge!*** ✨"
      ],
      "metadata": {
        "id": "y8XBKLZkkVF0"
      }
    },
    {
      "cell_type": "code",
      "source": [],
      "metadata": {
        "id": "Ic4Z5Y2CkAP2"
      },
      "execution_count": null,
      "outputs": []
    }
  ]
}
